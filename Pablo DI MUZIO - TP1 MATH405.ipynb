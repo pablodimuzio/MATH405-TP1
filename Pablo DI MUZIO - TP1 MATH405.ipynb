{
 "cells": [
  {
   "cell_type": "code",
   "execution_count": 45,
   "id": "e8754fdd",
   "metadata": {},
   "outputs": [],
   "source": [
    "%display latex"
   ]
  },
  {
   "cell_type": "markdown",
   "id": "9bd058d1",
   "metadata": {},
   "source": [
    "# MATH405:  Le problème d'Andrey Markov"
   ]
  },
  {
   "cell_type": "markdown",
   "id": "e5431deb",
   "metadata": {},
   "source": [
    "## Exercice 1:"
   ]
  },
  {
   "cell_type": "markdown",
   "id": "e9008baf",
   "metadata": {},
   "source": [
    "Pour prouver que $A = (a_{i,j})$ matrice stochastique implique que $1 \\in Sp(A)$, on calcule"
   ]
  },
  {
   "cell_type": "markdown",
   "id": "f3cbd244",
   "metadata": {},
   "source": [
    "$$\n",
    "^tA\\begin{pmatrix}\n",
    "1 \\\\\n",
    ". \\\\\n",
    ". \\\\\n",
    ". \\\\\n",
    "1\n",
    "\\end{pmatrix}\n",
    "=\n",
    "\\begin{pmatrix}\n",
    "\\sum_{i=1}^n a_{i,1} \\\\\n",
    ". \\\\\n",
    ". \\\\\n",
    ". \\\\\n",
    "\\sum_{i=1}^n a_{i,n}\n",
    "\\end{pmatrix}\n",
    "=\n",
    "\\begin{pmatrix}\n",
    "1 \\\\\n",
    ". \\\\\n",
    ". \\\\\n",
    ". \\\\\n",
    "1\n",
    "\\end{pmatrix}\n",
    "$$"
   ]
  },
  {
   "cell_type": "markdown",
   "id": "4037d6c6",
   "metadata": {},
   "source": [
    "D'où la conclusion que 1 est dans le spectre de $^tA$ or on sait que le spectre de $A$ est égal au spectre de $^tA$."
   ]
  },
  {
   "cell_type": "markdown",
   "id": "41f7c1d9",
   "metadata": {},
   "source": [
    "## Exercice 2:"
   ]
  },
  {
   "cell_type": "markdown",
   "id": "70796898",
   "metadata": {},
   "source": [
    "Soit $A = (a)_{i,j} \\in M_n(\\mathbb R), d = \\begin{pmatrix} d_1 \\\\ \\vdots \\\\ d_n \\end{pmatrix} \\in \\mathbb R^n$. On a alors\n",
    "\n",
    "$$\n",
    "Ad = \n",
    "\\begin{pmatrix}\n",
    "a_{1,1} \\cdots a_{1,n} \\\\\n",
    "\\vdots \\ddots \\vdots\\\\\n",
    "a_{n, 1} \\cdots a_{n,n}\n",
    "\\end{pmatrix} \\begin{pmatrix} d1 \\\\ \\vdots \\\\ d_n \\end{pmatrix}\n",
    "=\n",
    "\\begin{pmatrix}\n",
    "d_1a_{1,1} + \\cdots + d_na_{1,n} \\\\\n",
    "\\vdots \\; \\ddots \\; \\vdots \\\\\n",
    "d_1a_{n,1} + \\cdots + d_na_{n,n}\n",
    "\\end{pmatrix}\n",
    "$$\n",
    "On retrouve\n",
    "$$\n",
    "\\sum_{j=1}^n d_1a_{j,1} + \\cdots + d_na_{j,n}\n",
    "=\n",
    "d_1 \\left( \\sum_{i=1}^n a_{i,1} \\right) + \\cdots + d_n\\left( \\sum_{i=1}^n a_{i,n} \\right)\n",
    "= d_1 + \\cdots + d_n = 1\n",
    "$$\n",
    "\n",
    "Donc on a $Ad$ qui est stochastique si $A$ et $d$ le sont aussi. \n",
    "Par hérédité immédiate on a $A^qd$ stochiastique $\\forall q \\in \\mathbb N$ et donc une chaîne de Markov est une suite stochiastique."
   ]
  },
  {
   "cell_type": "markdown",
   "id": "1da84f53",
   "metadata": {},
   "source": [
    "## Exercice 3:"
   ]
  },
  {
   "cell_type": "markdown",
   "id": "073a8949",
   "metadata": {},
   "source": [
    "Pour prouver que toute matrice stochastique régulière remplit le critère de Perron-Frobenius, on cherche par contraposé:\n",
    "Soit $M \\in M_n(\\mathbb R)$ stochastique telle que $\\exists i \\in \\mathbb N, 1 \\leq i \\leq n$ tel que $ (M)_{i, \\bullet} = 0$, on a donc $\\forall q \\in \\mathbb N, \\forall j \\in \\mathbb N, 1 \\leq j \\leq n$,\n",
    "$$\n",
    "(M^q)_{i,j} = (MM^{q-1})_{i,j} = (M)_{i, \\bullet} (M^{q-1})_{\\bullet, j}) = 0\n",
    "$$"
   ]
  },
  {
   "cell_type": "markdown",
   "id": "bf17332e",
   "metadata": {},
   "source": [
    "## Exercice 4:\n"
   ]
  },
  {
   "cell_type": "markdown",
   "id": "d49d3b7f",
   "metadata": {},
   "source": [
    "La matrice stochastique $M$ représentant les changements de pièce de la souris où $M_{i,j}$ est la probabilité de passer de la pièce $j$ à la pièce $ i $ se décrit comme la matrice-ci dessous:"
   ]
  },
  {
   "cell_type": "code",
   "execution_count": 46,
   "id": "9a6cf2e6",
   "metadata": {},
   "outputs": [
    {
     "data": {
      "text/html": [
       "<html><script type=\"math/tex; mode=display\">\\newcommand{\\Bold}[1]{\\mathbf{#1}}\\left(\\begin{array}{rrrrrrrrr}\n",
       "\\frac{1}{3} & \\frac{1}{3} & 0 & \\frac{1}{3} & 0 & 0 & 0 & 0 & 0 \\\\\n",
       "\\frac{1}{3} & \\frac{1}{3} & \\frac{1}{3} & 0 & 0 & 0 & 0 & 0 & 0 \\\\\n",
       "0 & \\frac{1}{3} & \\frac{1}{3} & 0 & \\frac{1}{4} & 0 & 0 & 0 & 0 \\\\\n",
       "\\frac{1}{3} & 0 & 0 & \\frac{1}{3} & 0 & 0 & \\frac{1}{3} & 0 & 0 \\\\\n",
       "0 & 0 & \\frac{1}{3} & 0 & \\frac{1}{4} & \\frac{1}{2} & 0 & 0 & \\frac{1}{3} \\\\\n",
       "0 & 0 & 0 & 0 & \\frac{1}{4} & \\frac{1}{2} & 0 & 0 & 0 \\\\\n",
       "0 & 0 & 0 & \\frac{1}{3} & 0 & 0 & \\frac{1}{3} & \\frac{1}{3} & 0 \\\\\n",
       "0 & 0 & 0 & 0 & 0 & 0 & \\frac{1}{3} & \\frac{1}{3} & \\frac{1}{3} \\\\\n",
       "0 & 0 & 0 & 0 & \\frac{1}{4} & 0 & 0 & \\frac{1}{3} & \\frac{1}{3}\n",
       "\\end{array}\\right)</script></html>"
      ],
      "text/latex": [
       "$$\\newcommand{\\Bold}[1]{\\mathbf{#1}}\\left(\\begin{array}{rrrrrrrrr}\n",
       "\\frac{1}{3} & \\frac{1}{3} & 0 & \\frac{1}{3} & 0 & 0 & 0 & 0 & 0 \\\\\n",
       "\\frac{1}{3} & \\frac{1}{3} & \\frac{1}{3} & 0 & 0 & 0 & 0 & 0 & 0 \\\\\n",
       "0 & \\frac{1}{3} & \\frac{1}{3} & 0 & \\frac{1}{4} & 0 & 0 & 0 & 0 \\\\\n",
       "\\frac{1}{3} & 0 & 0 & \\frac{1}{3} & 0 & 0 & \\frac{1}{3} & 0 & 0 \\\\\n",
       "0 & 0 & \\frac{1}{3} & 0 & \\frac{1}{4} & \\frac{1}{2} & 0 & 0 & \\frac{1}{3} \\\\\n",
       "0 & 0 & 0 & 0 & \\frac{1}{4} & \\frac{1}{2} & 0 & 0 & 0 \\\\\n",
       "0 & 0 & 0 & \\frac{1}{3} & 0 & 0 & \\frac{1}{3} & \\frac{1}{3} & 0 \\\\\n",
       "0 & 0 & 0 & 0 & 0 & 0 & \\frac{1}{3} & \\frac{1}{3} & \\frac{1}{3} \\\\\n",
       "0 & 0 & 0 & 0 & \\frac{1}{4} & 0 & 0 & \\frac{1}{3} & \\frac{1}{3}\n",
       "\\end{array}\\right)$$"
      ],
      "text/plain": [
       "[1/3 1/3   0 1/3   0   0   0   0   0]\n",
       "[1/3 1/3 1/3   0   0   0   0   0   0]\n",
       "[  0 1/3 1/3   0 1/4   0   0   0   0]\n",
       "[1/3   0   0 1/3   0   0 1/3   0   0]\n",
       "[  0   0 1/3   0 1/4 1/2   0   0 1/3]\n",
       "[  0   0   0   0 1/4 1/2   0   0   0]\n",
       "[  0   0   0 1/3   0   0 1/3 1/3   0]\n",
       "[  0   0   0   0   0   0 1/3 1/3 1/3]\n",
       "[  0   0   0   0 1/4   0   0 1/3 1/3]"
      ]
     },
     "execution_count": 46,
     "metadata": {},
     "output_type": "execute_result"
    }
   ],
   "source": [
    "M = Matrix(QQ, [\n",
    "    [1/3, 1/3, 0, 1/3, 0, 0, 0, 0, 0],\n",
    "    [1/3, 1/3, 1/3, 0, 0, 0, 0, 0, 0],\n",
    "    [0, 1/3, 1/3, 0, 1/3, 0, 0, 0, 0],\n",
    "    [1/3, 0, 0, 1/3, 0, 0, 1/3, 0, 0],\n",
    "    [0, 0, 1/4, 0, 1/4, 1/4, 0, 0, 1/4],\n",
    "    [0, 0, 0, 0, 1/2, 1/2, 0, 0, 0],\n",
    "    [0, 0, 0, 1/3, 0, 0, 1/3, 1/3, 0],\n",
    "    [0, 0, 0, 0, 0, 0, 1/3, 1/3, 1/3],\n",
    "    [0, 0, 0, 0, 1/3, 0, 0, 1/3, 1/3]\n",
    "]).transpose()\n",
    "M"
   ]
  },
  {
   "cell_type": "markdown",
   "id": "0194ed25",
   "metadata": {},
   "source": [
    "On remarque que cette matrice peut être lue de deux façons:\n",
    "- Si on la lit par colonne: les coéficients de la $j$-ème colomne nous indique la probabilité de passer à la $i$-ème pièce après la nuit.\n",
    "- Si on la lit par ligne: les coéficients de la $i$-ème ligne indique la probabilité de provenir de la $j$-ème pièce."
   ]
  },
  {
   "cell_type": "markdown",
   "id": "19ad76a9",
   "metadata": {},
   "source": [
    "### Partie 2:"
   ]
  },
  {
   "cell_type": "markdown",
   "id": "c54b04ba",
   "metadata": {},
   "source": [
    "On va démontrer que si on a $A_0$ le vecteur stochastique qui encode la probabilité pour la souris de se trouver dans une pièce la première nuit, alors $A_n = M^nA_0$.\n",
    "On résonne par récurence.\n",
    "On pose $A_0 = \\left(\\begin{smallmatrix} a_1^{(0)} \\\\ \\vdots \\\\ a_9^{(0)} \\end{smallmatrix}\\right)$.\n",
    "On a \n",
    "$$\n",
    "MA_0 = \\begin{pmatrix} \n",
    "P(\"1 \\rightarrow 1\"), \\cdots, P(\"9 \\rightarrow 1\") \\\\\n",
    "\\vdots \\ddots \\vdots \\\\\n",
    "P(\"1 \\rightarrow 9\"), \\cdots, P(\"9 \\rightarrow 9\")\n",
    "\\end{pmatrix}\n",
    "\\begin{pmatrix}\n",
    "P_0(1) \\\\\n",
    "\\vdots \\ddots \\vdots\\\\\n",
    "P_0(n)\n",
    "\\end{pmatrix}\n",
    "= \\begin{pmatrix}\n",
    "P_0(1)P(\"1 \\rightarrow 1\") + \\cdots + P_0(n)P(\"n \\rightarrow 1\") \\\\\n",
    "\\vdots \\ddots \\vdots \\\\\n",
    "P_0(1)P(\"1 \\rightarrow n\") + \\cdots + P_0(n)P(\"n \\rightarrow n\")\n",
    "\\end{pmatrix}\n",
    "= \\begin{pmatrix}\n",
    "P_1(1) \\\\\n",
    "\\vdots \\\\\n",
    "P_1(n)\n",
    "\\end{pmatrix}\n",
    "= A_1\n",
    "$$\n",
    "Soit $n \\in \\mathbb N$.\n",
    "On suppose que $\\forall n_0 \\leq n, \\; A_{n_0} = M^{n_0}A_0$.\n",
    "On a\n",
    "$$\n",
    "MA_n = \\begin{pmatrix}\n",
    "P(\"1 \\rightarrow 1\"), \\cdots, P(\"9 \\rightarrow 1\") \\\\\n",
    "\\vdots \\ddots \\vdots \\\\\n",
    "P(\"1 \\rightarrow 9\"), \\cdots, P(\"9 \\rightarrow 9\")\n",
    "\\end{pmatrix}\n",
    "\\begin{pmatrix}\n",
    "P_n(1) \\\\\n",
    "\\vdots \\\\\n",
    "P_n(n)\n",
    "\\end{pmatrix}\n",
    "= \\begin{pmatrix}\n",
    "P_n(1)P(\"1 \\rightarrow 1\") + \\cdots + P_n(n)P(\"n \\rightarrow 1\") \\\\\n",
    "\\vdots \\ddots \\vdots \\\\\n",
    "P_n(1)P(\"1 \\rightarrow n\") + \\cdots + P_n(n)P(\"n \\rightarrow n\")\n",
    "\\end{pmatrix}\n",
    "= \\begin{pmatrix}\n",
    "P_{n+1}(1) \\\\\n",
    "\\vdots \\\\\n",
    "P_{n+1}(n)\n",
    "\\end{pmatrix}\n",
    "= A_{n+1}\n",
    "$$\n",
    "On a donc par récurence $A_n = M^nA_0$"
   ]
  },
  {
   "cell_type": "markdown",
   "id": "1c38094b",
   "metadata": {},
   "source": [
    "On commence par supposer qu'il est équiprobable que la souris se trouve dans chaque pièce au départ, on encode cette information dans le vecteur ligne $I = \\dfrac{1}{9}\\left(\\begin{smallmatrix} 1 \\\\ \\vdots \\\\ 1 \\end{smallmatrix}\\right)$. On sait que sur une ligne $i$ on lit la probabilité que la souris passe de chaque pièce à la $i$-ème pièce. On peut récupérer cette information en multipliant M à gauche par un vecteur colonne $P_i$ nul sauf en la i-ème composante = 1. Par exemple pour i = 1, le vecteur est égal à $P_1 = \\left(\\begin{smallmatrix} 1, 0, \\cdots, 0 \\end{smallmatrix} \\right)$. On a donc l'identitée:\n",
    "$$\n",
    "P(\\text{\"être dans la pièce }i\\text{ au }n\\text{-ième jour\"}) = P_iM^nI\n",
    "$$\n",
    "Par exemple la probabilité de se trouver dans la pièce 1 le 15-ème jour est"
   ]
  },
  {
   "cell_type": "code",
   "execution_count": 57,
   "id": "85d5d844",
   "metadata": {
    "scrolled": true
   },
   "outputs": [
    {
     "data": {
      "text/html": [
       "<html><script type=\"math/tex; mode=display\">\\newcommand{\\Bold}[1]{\\mathbf{#1}}\\left(\\begin{array}{r}\n",
       "0.110908804706547\n",
       "\\end{array}\\right)</script></html>"
      ],
      "text/latex": [
       "$$\\newcommand{\\Bold}[1]{\\mathbf{#1}}\\left(\\begin{array}{r}\n",
       "0.110908804706547\n",
       "\\end{array}\\right)$$"
      ],
      "text/plain": [
       "[0.110908804706547]"
      ]
     },
     "execution_count": 57,
     "metadata": {},
     "output_type": "execute_result"
    }
   ],
   "source": [
    "n(Matrix(QQ, [[1,0,0,0,0,0,0,0,0]])*M**15*1/9*Matrix(QQ, [[1,1,1,1,1,1,1,1,1]]).transpose())"
   ]
  },
  {
   "cell_type": "markdown",
   "id": "b0bf11ef",
   "metadata": {},
   "source": [
    "On a donc la probabilité que la souris se trouve dans la 1-ère pièce le 15-ème jour égale à 0.111 environ. "
   ]
  },
  {
   "cell_type": "markdown",
   "id": "9e9726fe",
   "metadata": {},
   "source": [
    "### Partie 3:"
   ]
  },
  {
   "cell_type": "markdown",
   "id": "ab1d9bd7",
   "metadata": {},
   "source": [
    "Par définition de la régularité, pour prouver que $M$ est régulière, il suffit que toutes les lignes de M soit non nulles et de trouver un $\\alpha \\in \\mathbb N$ tel que \n",
    "$$\\forall (i,j) \\in \\mathbb N, 0 < i, j \\leq n \\implies \\\\ (M^\\alpha)_{i, j} \\neq 0$$"
   ]
  },
  {
   "cell_type": "markdown",
   "id": "9b20629b",
   "metadata": {},
   "source": [
    "On remarque que trivialement la matrice n'a pas de colone nulles.\n",
    "On remarque de la même façon que pour $\\alpha = 15$ on a tous les $(M_{i, j}) \\neq 0$.\n",
    "\n",
    "On conclut que $M$ est régulière"
   ]
  },
  {
   "cell_type": "markdown",
   "id": "096f4d5d",
   "metadata": {},
   "source": [
    "### Partie 4:"
   ]
  },
  {
   "cell_type": "markdown",
   "id": "5c7835a5",
   "metadata": {},
   "source": [
    "On cherche à trouver le vecteur d'état stationnaire de $M$.\n",
    "Pour cela on pourrait essayer de voir si en faisant tendre vers l'infini un vecteur choisis arbitrairement qu'on soumet à une chaine de Markov on ne verrait pas apparaitre une valeur que l'on connait. Cela cependant pourrait demander beaucoup de ressources sans resultat exacte.\n",
    "On va donc plutôt utiliser la méthode par les vecteurs propres de $M$ pour trouver la valeur exacte. On sait que les vecteur propres $\\mathbb R d$ associés à 1 sont solutions de $Md = d$, il nous suffit de trouver un vecteur propre représentant et un $\\lambda$ tel que ce vecteur propre soit stochastique."
   ]
  },
  {
   "cell_type": "code",
   "execution_count": 11,
   "id": "3ddec1c6",
   "metadata": {},
   "outputs": [
    {
     "data": {
      "text/html": [
       "<html><script type=\"math/tex; mode=display\">\\newcommand{\\Bold}[1]{\\mathbf{#1}}\\left(1,\\,1,\\,1,\\,1,\\,\\frac{4}{3},\\,\\frac{2}{3},\\,1,\\,1,\\,1\\right)</script></html>"
      ],
      "text/latex": [
       "$$\\newcommand{\\Bold}[1]{\\mathbf{#1}}\\left(1,\\,1,\\,1,\\,1,\\,\\frac{4}{3},\\,\\frac{2}{3},\\,1,\\,1,\\,1\\right)$$"
      ],
      "text/plain": [
       "(1, 1, 1, 1, 4/3, 2/3, 1, 1, 1)"
      ]
     },
     "execution_count": 11,
     "metadata": {},
     "output_type": "execute_result"
    }
   ],
   "source": [
    "b = None\n",
    "vecteurs_propres = M.eigenspaces_right()\n",
    "for valeurs_propres, espaces_propres in vecteurs_propres:\n",
    "    if valeurs_propres == 1:\n",
    "        b = espaces_propres.basis()[0]\n",
    "b"
   ]
  },
  {
   "cell_type": "markdown",
   "id": "c5e55e1c",
   "metadata": {},
   "source": [
    "On divise le vecteur trouvé par la somme de ses coéficients pour avoir notre vecteur stationaire."
   ]
  },
  {
   "cell_type": "code",
   "execution_count": 12,
   "id": "881245eb",
   "metadata": {},
   "outputs": [
    {
     "data": {
      "text/html": [
       "<html><script type=\"math/tex; mode=display\">\\newcommand{\\Bold}[1]{\\mathbf{#1}}\\left(\\frac{1}{9},\\,\\frac{1}{9},\\,\\frac{1}{9},\\,\\frac{1}{9},\\,\\frac{4}{27},\\,\\frac{2}{27},\\,\\frac{1}{9},\\,\\frac{1}{9},\\,\\frac{1}{9}\\right)</script></html>"
      ],
      "text/latex": [
       "$$\\newcommand{\\Bold}[1]{\\mathbf{#1}}\\left(\\frac{1}{9},\\,\\frac{1}{9},\\,\\frac{1}{9},\\,\\frac{1}{9},\\,\\frac{4}{27},\\,\\frac{2}{27},\\,\\frac{1}{9},\\,\\frac{1}{9},\\,\\frac{1}{9}\\right)$$"
      ],
      "text/plain": [
       "(1/9, 1/9, 1/9, 1/9, 4/27, 2/27, 1/9, 1/9, 1/9)"
      ]
     },
     "execution_count": 12,
     "metadata": {},
     "output_type": "execute_result"
    }
   ],
   "source": [
    "sum_b = 0\n",
    "for k in range(9):\n",
    "    sum_b += b[k]\n",
    "b = b/sum_b\n",
    "b"
   ]
  },
  {
   "cell_type": "markdown",
   "id": "c612142a",
   "metadata": {},
   "source": [
    "On conclut que le vecteur stationaire est le vecteur\n",
    "$\n",
    "\\begin{pmatrix}\n",
    "\\frac{1}{9}, \\frac{1}{9}, \\frac{1}{9}, \\frac{1}{9}, \\frac{4}{27}, \\frac{2}{27}, \\frac{1}{9}, \\frac{1}{9}, \\frac{1}{9}\n",
    "\\end{pmatrix}\n",
    "$"
   ]
  },
  {
   "cell_type": "markdown",
   "id": "d5d17062",
   "metadata": {},
   "source": [
    "Ce vecteur correspond au choix de la loi qui régie la position initiale de la souris. Avec cette loi en particulier, peu importe le jour, on a une probabilité de tomber sur la souris dans une pièce chaques jours qui est fixe."
   ]
  },
  {
   "cell_type": "code",
   "execution_count": null,
   "id": "901126ef",
   "metadata": {},
   "outputs": [],
   "source": []
  }
 ],
 "metadata": {
  "kernelspec": {
   "display_name": "SageMath 9.5",
   "language": "sage",
   "name": "sagemath"
  },
  "language_info": {
   "codemirror_mode": {
    "name": "ipython",
    "version": 3
   },
   "file_extension": ".py",
   "mimetype": "text/x-python",
   "name": "python",
   "nbconvert_exporter": "python",
   "pygments_lexer": "ipython3",
   "version": "3.10.12"
  }
 },
 "nbformat": 4,
 "nbformat_minor": 5
}
